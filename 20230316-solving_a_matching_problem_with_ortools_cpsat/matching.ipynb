{
 "cells": [
  {
   "cell_type": "code",
   "execution_count": 1,
   "id": "cbfb4ec7",
   "metadata": {},
   "outputs": [],
   "source": [
    "import csv\n",
    "\n",
    "spots = {role: int(n) for role, n in csv.reader(open('spots.csv'))}\n",
    "all_rankings = [ranking for ranking in csv.DictReader(open('rankings.csv'))]"
   ]
  },
  {
   "cell_type": "code",
   "execution_count": 2,
   "id": "a0974c5c",
   "metadata": {},
   "outputs": [],
   "source": [
    "by_role, by_person = {}, {}\n",
    "\n",
    "for ranking in all_rankings:\n",
    "    by_role.setdefault(ranking['role'], []).append(ranking)\n",
    "    by_person.setdefault(ranking['person'], []).append(ranking)"
   ]
  },
  {
   "cell_type": "code",
   "execution_count": 3,
   "id": "51f2dcf5",
   "metadata": {},
   "outputs": [],
   "source": [
    "from ortools.sat.python import cp_model\n",
    "\n",
    "model = cp_model.CpModel()\n",
    "solver = cp_model.CpSolver()"
   ]
  },
  {
   "cell_type": "code",
   "execution_count": 4,
   "id": "f6d04037",
   "metadata": {},
   "outputs": [],
   "source": [
    "for ranking in all_rankings:\n",
    "    ranking['selected'] = model.NewBoolVar('')"
   ]
  },
  {
   "cell_type": "code",
   "execution_count": 5,
   "id": "27df1bdd",
   "metadata": {},
   "outputs": [],
   "source": [
    "for role, rankings in by_role.items():\n",
    "    total = sum(ranking['selected'] for ranking in rankings)\n",
    "    model.Add(total <= spots[role])"
   ]
  },
  {
   "cell_type": "code",
   "execution_count": 6,
   "id": "398fe835",
   "metadata": {},
   "outputs": [],
   "source": [
    "for person, rankings in by_person.items():\n",
    "    total = sum(ranking['selected'] for ranking in rankings)\n",
    "    model.Add(total <= 1)"
   ]
  },
  {
   "cell_type": "code",
   "execution_count": 7,
   "id": "4b220d27",
   "metadata": {},
   "outputs": [],
   "source": [
    "total_score = 0\n",
    "for ranking in all_rankings:\n",
    "    score = float(ranking['score']) * ranking['selected']\n",
    "    total_score += score"
   ]
  },
  {
   "cell_type": "code",
   "execution_count": 8,
   "id": "baa0e7f2",
   "metadata": {},
   "outputs": [
    {
     "name": "stdout",
     "output_type": "stream",
     "text": [
      "82.87644300144302 OPTIMAL\n"
     ]
    }
   ],
   "source": [
    "model.Maximize(total_score)\n",
    "status = solver.Solve(model)\n",
    "print(solver.Value(total_score), solver.StatusName(status))"
   ]
  },
  {
   "cell_type": "code",
   "execution_count": 9,
   "id": "de660141",
   "metadata": {},
   "outputs": [],
   "source": [
    "with open('results.csv', 'w') as f:\n",
    "    writer = csv.DictWriter(f, all_rankings[0].keys())\n",
    "    writer.writeheader()\n",
    "    for ranking in all_rankings:\n",
    "        ranking['selected'] = solver.Value(ranking['selected'])\n",
    "        writer.writerow(ranking)"
   ]
  },
  {
   "cell_type": "code",
   "execution_count": null,
   "id": "d44aa74c",
   "metadata": {},
   "outputs": [],
   "source": []
  }
 ],
 "metadata": {
  "kernelspec": {
   "display_name": "Python 3 (ipykernel)",
   "language": "python",
   "name": "python3"
  },
  "language_info": {
   "codemirror_mode": {
    "name": "ipython",
    "version": 3
   },
   "file_extension": ".py",
   "mimetype": "text/x-python",
   "name": "python",
   "nbconvert_exporter": "python",
   "pygments_lexer": "ipython3",
   "version": "3.8.11"
  }
 },
 "nbformat": 4,
 "nbformat_minor": 5
}
